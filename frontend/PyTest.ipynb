{
 "cells": [
  {
   "cell_type": "code",
   "execution_count": 15,
   "id": "39d83cb9-9b30-42d9-b406-a6b073db1aa4",
   "metadata": {},
   "outputs": [],
   "source": [
    "a=6"
   ]
  },
  {
   "cell_type": "markdown",
   "id": "781df96c-b1c3-41a0-9675-937fb9740728",
   "metadata": {},
   "source": [
    "## 마크다운"
   ]
  },
  {
   "cell_type": "code",
   "execution_count": 18,
   "id": "835b7892-e315-4e47-a085-85b77ae6562a",
   "metadata": {},
   "outputs": [],
   "source": [
    "a={'a':6} # dictionary"
   ]
  },
  {
   "cell_type": "code",
   "execution_count": 3,
   "id": "0535b224-d4f1-4737-8edc-587e7f284971",
   "metadata": {},
   "outputs": [
    {
     "data": {
      "text/plain": [
       "'C:\\\\Users\\\\Administrator'"
      ]
     },
     "execution_count": 3,
     "metadata": {},
     "output_type": "execute_result"
    }
   ],
   "source": [
    "pwd"
   ]
  },
  {
   "cell_type": "markdown",
   "id": "8af1ae36-c445-4a02-a457-bd21eeef21b1",
   "metadata": {},
   "source": [
    "<a href=\"https://pynative.com/wp-content/uploads/2021/02/dictionaries-in-python.jpg\">dictionary</a>"
   ]
  },
  {
   "cell_type": "markdown",
   "id": "64dea4a6-bf88-43f8-b52e-1d1c5eec6d1b",
   "metadata": {},
   "source": [
    "<h1>딕셔너리</h1>\n",
    "<h4>딕셔너리는 키와 값의 쌍으로 이루어진 데이터=> 자바스크립트의 객체와 동일</h4> \n",
    "<img src=\"images/1.jpg\"/>"
   ]
  },
  {
   "cell_type": "code",
   "execution_count": 11,
   "id": "cb626c28-ef01-49fb-91d1-f38b7042b5d1",
   "metadata": {},
   "outputs": [],
   "source": [
    "b=[1, 2, 4] # 리스트"
   ]
  },
  {
   "cell_type": "code",
   "execution_count": 16,
   "id": "814841b9-06dc-4ec9-9580-488cb16d8247",
   "metadata": {},
   "outputs": [
    {
     "ename": "NameError",
     "evalue": "name 'b' is not defined",
     "output_type": "error",
     "traceback": [
      "\u001b[1;31m---------------------------------------------------------------------------\u001b[0m",
      "\u001b[1;31mNameError\u001b[0m                                 Traceback (most recent call last)",
      "Cell \u001b[1;32mIn[16], line 1\u001b[0m\n\u001b[1;32m----> 1\u001b[0m \u001b[38;5;124m'\u001b[39m\u001b[38;5;124ma\u001b[39m\u001b[38;5;124m'\u001b[39m[b]\u001b[38;5;241m=\u001b[39m\u001b[38;5;241m13\u001b[39m\n",
      "\u001b[1;31mNameError\u001b[0m: name 'b' is not defined"
     ]
    }
   ],
   "source": [
    "#a['b']=13"
   ]
  },
  {
   "cell_type": "code",
   "execution_count": null,
   "id": "9a168520-d679-496f-8c85-82cdd3ae8417",
   "metadata": {},
   "outputs": [],
   "source": [
    "{'a':6, 'b'=13}"
   ]
  },
  {
   "cell_type": "code",
   "execution_count": null,
   "id": "5966ff38-2e65-4281-941f-40ecf127c579",
   "metadata": {},
   "outputs": [],
   "source": []
  },
  {
   "cell_type": "code",
   "execution_count": null,
   "id": "e04ce947-584d-4bbb-893e-2d6066d9f7be",
   "metadata": {},
   "outputs": [],
   "source": []
  },
  {
   "cell_type": "code",
   "execution_count": null,
   "id": "123f9703-d17e-4f2a-a5e8-1483bec6895d",
   "metadata": {},
   "outputs": [],
   "source": []
  }
 ],
 "metadata": {
  "kernelspec": {
   "display_name": "Python [conda env:base] *",
   "language": "python",
   "name": "conda-base-py"
  },
  "language_info": {
   "codemirror_mode": {
    "name": "ipython",
    "version": 3
   },
   "file_extension": ".py",
   "mimetype": "text/x-python",
   "name": "python",
   "nbconvert_exporter": "python",
   "pygments_lexer": "ipython3",
   "version": "3.12.7"
  }
 },
 "nbformat": 4,
 "nbformat_minor": 5
}
