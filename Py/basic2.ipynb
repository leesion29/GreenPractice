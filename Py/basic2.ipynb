{
 "cells": [
  {
   "cell_type": "code",
   "execution_count": 151,
   "id": "140ed026-3c43-4a1c-8929-00630911a341",
   "metadata": {},
   "outputs": [],
   "source": [
    "class Calc1:\n",
    "    def __init__(self, a): \n",
    "        self.vv=a\n",
    "        self.result=0\n",
    "    def clear(self):\n",
    "        self.result=0\n",
    "    def add(self, num):\n",
    "        self.result+=num+self.vv\n",
    "        return self.result"
   ]
  },
  {
   "cell_type": "code",
   "execution_count": 153,
   "id": "50ebff91-596e-455b-84a0-21e10923e00d",
   "metadata": {},
   "outputs": [],
   "source": [
    "cal1 = Calc1(7)\n",
    "cal2 = Calc1(10)"
   ]
  },
  {
   "cell_type": "code",
   "execution_count": 155,
   "id": "32534832-af13-4c24-9ca4-385997089467",
   "metadata": {},
   "outputs": [
    {
     "data": {
      "text/plain": [
       "10"
      ]
     },
     "execution_count": 155,
     "metadata": {},
     "output_type": "execute_result"
    }
   ],
   "source": [
    "cal1.add(3)"
   ]
  },
  {
   "cell_type": "code",
   "execution_count": 157,
   "id": "87bfb569-626b-44c3-8716-08390be431df",
   "metadata": {},
   "outputs": [
    {
     "data": {
      "text/plain": [
       "10"
      ]
     },
     "execution_count": 157,
     "metadata": {},
     "output_type": "execute_result"
    }
   ],
   "source": [
    "cal1.clear()\n",
    "cal1.add(3)"
   ]
  },
  {
   "cell_type": "code",
   "execution_count": 159,
   "id": "5db1a463-bba9-4c8d-9dd4-036c07256222",
   "metadata": {},
   "outputs": [
    {
     "data": {
      "text/plain": [
       "20"
      ]
     },
     "execution_count": 159,
     "metadata": {},
     "output_type": "execute_result"
    }
   ],
   "source": [
    "cal2.add(10)"
   ]
  },
  {
   "cell_type": "code",
   "execution_count": 161,
   "id": "88ce84fa-38ba-40fe-bf35-c73661d24f39",
   "metadata": {},
   "outputs": [
    {
     "name": "stdout",
     "output_type": "stream",
     "text": [
      "Hello, world!\n"
     ]
    }
   ],
   "source": [
    "def test(msg):\n",
    "    print(msg)\n",
    "test(\"Hello, world!\")"
   ]
  },
  {
   "cell_type": "code",
   "execution_count": null,
   "id": "e4d92906-cf1d-4dc7-b497-5250b142046d",
   "metadata": {},
   "outputs": [],
   "source": [
    "# ans > 계산기 만들기 (add), minus, mul, div"
   ]
  },
  {
   "cell_type": "code",
   "execution_count": 251,
   "id": "dde6a5b2-2967-43f3-b1ca-9a9db1ca1116",
   "metadata": {},
   "outputs": [],
   "source": [
    "class Calc:\n",
    "    def __init__(self, x, y):\n",
    "        self.res=0\n",
    "        #self.a = x\n",
    "        #self.b = y\n",
    "    def add(self, x, y):\n",
    "        self.result = (x+y)\n",
    "        print(self.result)\n",
    "        \n",
    "    def minus(self, x, y):\n",
    "        self.result = (x-y)\n",
    "        print(self.result)\n",
    "        \n",
    "    def mul(self, x, y):\n",
    "        self.result = (x*y)\n",
    "        print(self.result)\n",
    "        \n",
    "    def div(self, x, y):\n",
    "        self.result = (x/y)\n",
    "        print(self.result)"
   ]
  },
  {
   "cell_type": "code",
   "execution_count": 253,
   "id": "549f10f8-fc7e-444b-9859-5d1092c30f6e",
   "metadata": {},
   "outputs": [
    {
     "name": "stdout",
     "output_type": "stream",
     "text": [
      "5\n",
      "-1\n",
      "10\n",
      "1.5\n"
     ]
    }
   ],
   "source": [
    "v = Calc(3, 4)\n",
    "v.add(2, 3)\n",
    "v.minus(3, 4)\n",
    "v.mul(2, 5)\n",
    "v.div(3, 2)"
   ]
  },
  {
   "cell_type": "code",
   "execution_count": 255,
   "id": "8e660eec-6d8a-4c37-9372-39f9307d7648",
   "metadata": {},
   "outputs": [
    {
     "name": "stdout",
     "output_type": "stream",
     "text": [
      "3\n"
     ]
    }
   ],
   "source": [
    "v.add(1, 2)"
   ]
  },
  {
   "cell_type": "code",
   "execution_count": 231,
   "id": "e858abd9-fdb5-48dc-a18c-0e45ebb98edc",
   "metadata": {},
   "outputs": [
    {
     "name": "stdout",
     "output_type": "stream",
     "text": [
      "함수 실행\n",
      "함수 수행시간: 2.001343 초\n"
     ]
    }
   ],
   "source": [
    "import time\n",
    "\n",
    "def func():\n",
    "    start = time.time()\n",
    "    print(\"함수 실행\")\n",
    "    time.sleep(2)\n",
    "    end = time.time()\n",
    "    print(\"함수 수행시간: %f 초\" % (end-start))\n",
    "func()"
   ]
  },
  {
   "cell_type": "code",
   "execution_count": 235,
   "id": "3b25df19-04ec-4f0c-bcc0-feea02b2abb3",
   "metadata": {},
   "outputs": [
    {
     "name": "stdout",
     "output_type": "stream",
     "text": [
      "==함수 실행 전!==\n",
      "hi\n",
      "==함수 실행 후!==\n"
     ]
    }
   ],
   "source": [
    "import time\n",
    "\n",
    "def deco(func) :\n",
    "    def wrapper():\n",
    "        print(\"==함수 실행 전!==\")\n",
    "        func()\n",
    "        print(\"==함수 실행 후!==\")\n",
    "    return wrapper\n",
    "\n",
    "@deco\n",
    "def test():\n",
    "    print(\"hi\")\n",
    "test()"
   ]
  },
  {
   "cell_type": "code",
   "execution_count": 243,
   "id": "ec0a91be-8d47-408c-9b40-994bb991e492",
   "metadata": {},
   "outputs": [
    {
     "name": "stdout",
     "output_type": "stream",
     "text": [
      "함수 실행\n",
      "함수 수행시간: 2.000502 초\n"
     ]
    }
   ],
   "source": [
    "import time\n",
    "\n",
    "def deco2(func):\n",
    "    def wrapper():\n",
    "        start = time.time()\n",
    "        func()\n",
    "        end = time.time()\n",
    "        print(\"함수 수행시간: %f 초\" % (end-start))\n",
    "    return wrapper\n",
    "\n",
    "\n",
    "@deco2\n",
    "def cnt_time():\n",
    "    print(\"함수 실행\")\n",
    "    time.sleep(2)\n",
    "cnt_time()"
   ]
  }
 ],
 "metadata": {
  "kernelspec": {
   "display_name": "Python [conda env:base] *",
   "language": "python",
   "name": "conda-base-py"
  },
  "language_info": {
   "codemirror_mode": {
    "name": "ipython",
    "version": 3
   },
   "file_extension": ".py",
   "mimetype": "text/x-python",
   "name": "python",
   "nbconvert_exporter": "python",
   "pygments_lexer": "ipython3",
   "version": "3.12.7"
  }
 },
 "nbformat": 4,
 "nbformat_minor": 5
}
