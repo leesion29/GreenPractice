{
 "cells": [
  {
   "cell_type": "markdown",
   "id": "781df96c-b1c3-41a0-9675-937fb9740728",
   "metadata": {},
   "source": [
    "# 파이썬\n",
    "---"
   ]
  },
  {
   "cell_type": "code",
   "execution_count": 15,
   "id": "39d83cb9-9b30-42d9-b406-a6b073db1aa4",
   "metadata": {},
   "outputs": [],
   "source": [
    "a=6"
   ]
  },
  {
   "cell_type": "code",
   "execution_count": 3,
   "id": "0535b224-d4f1-4737-8edc-587e7f284971",
   "metadata": {},
   "outputs": [
    {
     "data": {
      "text/plain": [
       "'C:\\\\Users\\\\Administrator'"
      ]
     },
     "execution_count": 3,
     "metadata": {},
     "output_type": "execute_result"
    }
   ],
   "source": [
    "pwd"
   ]
  },
  {
   "cell_type": "markdown",
   "id": "8af1ae36-c445-4a02-a457-bd21eeef21b1",
   "metadata": {},
   "source": [
    "<a href=\"https://pynative.com/wp-content/uploads/2021/02/dictionaries-in-python.jpg\">dictionary</a>"
   ]
  },
  {
   "cell_type": "markdown",
   "id": "64dea4a6-bf88-43f8-b52e-1d1c5eec6d1b",
   "metadata": {},
   "source": [
    "<h2>딕셔너리</h2>\n",
    "<h4>딕셔너리는 키와 값의 쌍으로 이루어진 데이터=> 자바스크립트의 객체와 동일</h4> \n",
    "<img src=\"images/1.jpg\"/>"
   ]
  },
  {
   "cell_type": "code",
   "execution_count": 67,
   "id": "835b7892-e315-4e47-a085-85b77ae6562a",
   "metadata": {},
   "outputs": [],
   "source": [
    "a={'a':6} # dictionary"
   ]
  },
  {
   "cell_type": "code",
   "execution_count": 11,
   "id": "cb626c28-ef01-49fb-91d1-f38b7042b5d1",
   "metadata": {},
   "outputs": [],
   "source": [
    "b=[1, 2, 4] # 리스트"
   ]
  },
  {
   "cell_type": "code",
   "execution_count": null,
   "id": "9a168520-d679-496f-8c85-82cdd3ae8417",
   "metadata": {},
   "outputs": [],
   "source": [
    "a.c=13 # 잘못된 예시"
   ]
  },
  {
   "cell_type": "code",
   "execution_count": 98,
   "id": "814841b9-06dc-4ec9-9580-488cb16d8247",
   "metadata": {},
   "outputs": [
    {
     "data": {
      "text/plain": [
       "{'a': 6, 'b': 13}"
      ]
     },
     "execution_count": 98,
     "metadata": {},
     "output_type": "execute_result"
    }
   ],
   "source": [
    "a['b']=13 #  올바른 예시\n",
    "\n",
    "a # 출력"
   ]
  },
  {
   "cell_type": "code",
   "execution_count": 91,
   "id": "5966ff38-2e65-4281-941f-40ecf127c579",
   "metadata": {},
   "outputs": [
    {
     "name": "stdout",
     "output_type": "stream",
     "text": [
      "11\n",
      "22\n",
      "33\n",
      "44\n",
      "55\n"
     ]
    },
    {
     "data": {
      "text/plain": [
       "165"
      ]
     },
     "execution_count": 91,
     "metadata": {},
     "output_type": "execute_result"
    }
   ],
   "source": [
    "sumNum = 0;\n",
    "\n",
    "for i in [11, 22, 33, 44, 55]:\n",
    "    print(i)\n",
    "    sumNum += i # sum은 예약어라 사용 불가\n",
    "    \n",
    "sumNum"
   ]
  },
  {
   "cell_type": "code",
   "execution_count": 103,
   "id": "6c337461-f5aa-45a8-a1f2-caa685788db3",
   "metadata": {},
   "outputs": [
    {
     "data": {
      "text/plain": [
       "(620, 498)"
      ]
     },
     "execution_count": 103,
     "metadata": {},
     "output_type": "execute_result"
    }
   ],
   "source": [
    "total_even=0\n",
    "total_odd=0\n",
    "for i in [11, 82, 38, 487, 500]:\n",
    "    if(i%2==0): total_even+=i\n",
    "    else: total_odd+=i\n",
    "total_even, total_odd"
   ]
  },
  {
   "cell_type": "code",
   "execution_count": 105,
   "id": "e04ce947-584d-4bbb-893e-2d6066d9f7be",
   "metadata": {},
   "outputs": [],
   "source": [
    "obj={'짝':total_even, '홀': total_odd}"
   ]
  },
  {
   "cell_type": "code",
   "execution_count": 107,
   "id": "123f9703-d17e-4f2a-a5e8-1483bec6895d",
   "metadata": {},
   "outputs": [
    {
     "data": {
      "text/plain": [
       "{'짝': 620, '홀': 498}"
      ]
     },
     "execution_count": 107,
     "metadata": {},
     "output_type": "execute_result"
    }
   ],
   "source": [
    "obj"
   ]
  },
  {
   "cell_type": "code",
   "execution_count": 113,
   "id": "bf077fa1-6e93-4191-931e-6dc4b4beae5b",
   "metadata": {},
   "outputs": [],
   "source": [
    "even=0\n",
    "odd=0\n",
    "e_cnt=0\n",
    "o_cnt=0\n",
    "for i in [11, 82, 38, 487, 500]:\n",
    "    if(i%2==0): \n",
    "        even+=i\n",
    "        e_cnt += 1\n",
    "    else: \n",
    "        odd+=i\n",
    "        o_cnt+= 1"
   ]
  },
  {
   "cell_type": "code",
   "execution_count": 119,
   "id": "37959b55-648d-4af3-9e3b-d91f4c926c00",
   "metadata": {},
   "outputs": [],
   "source": [
    "obj2={'짝': even, '홀': odd, '짝수의 수' : e_cnt, '홀수의 수': o_cnt}"
   ]
  },
  {
   "cell_type": "code",
   "execution_count": 121,
   "id": "5ff3e44b-118a-4297-94c7-f6f983de923f",
   "metadata": {},
   "outputs": [
    {
     "data": {
      "text/plain": [
       "{'짝': 620, '홀': 498, '짝수의 수': 3, '홀수의 수': 2}"
      ]
     },
     "execution_count": 121,
     "metadata": {},
     "output_type": "execute_result"
    }
   ],
   "source": [
    "obj2"
   ]
  },
  {
   "cell_type": "code",
   "execution_count": 123,
   "id": "317bf11e-83b1-4bb4-81b7-b2df7b805b48",
   "metadata": {},
   "outputs": [
    {
     "data": {
      "text/plain": [
       "[7]"
      ]
     },
     "execution_count": 123,
     "metadata": {},
     "output_type": "execute_result"
    }
   ],
   "source": [
    "a = []\n",
    "a.append(7)\n",
    "a"
   ]
  },
  {
   "cell_type": "code",
   "execution_count": 133,
   "id": "1f4b8fde-6a06-49c1-8718-058673129c5a",
   "metadata": {},
   "outputs": [
    {
     "data": {
      "text/plain": [
       "([82, 38, 500], [11, 487])"
      ]
     },
     "execution_count": 133,
     "metadata": {},
     "output_type": "execute_result"
    }
   ],
   "source": [
    "list2 = [11, 82, 38, 487, 500]\n",
    "even_list1 = []\n",
    "odd_list1 = []\n",
    "for i in list2:\n",
    "    if(i%2==0): \n",
    "        even_list1.append(i)\n",
    "    else: \n",
    "        odd_list1.append(i)\n",
    "        \n",
    "even_list1, odd_list1"
   ]
  },
  {
   "cell_type": "code",
   "execution_count": 141,
   "id": "24d86973-a5c7-4dae-8964-47930315a715",
   "metadata": {},
   "outputs": [
    {
     "data": {
      "text/plain": [
       "([82, 38, 500], [11, 487])"
      ]
     },
     "execution_count": 141,
     "metadata": {},
     "output_type": "execute_result"
    }
   ],
   "source": [
    "even_list2 = [i for i in list2 if i%2==0]\n",
    "odd_list2 = [i for i in list2 if i%2==1]\n",
    "\n",
    "even_list2, odd_list2"
   ]
  },
  {
   "cell_type": "code",
   "execution_count": 143,
   "id": "03fa7722-0c5f-4d5b-871b-afcad2eefab9",
   "metadata": {},
   "outputs": [
    {
     "data": {
      "text/plain": [
       "[{'a': [1, 2, 3, 4], 'b': [2, 3, 4, 5]},\n",
       " {'a': [11, 12, 13, 14], 'b': [21, 31, 41, 51]},\n",
       " {'a': [13, 26, 378, 421], 'b': [28, 31, 41, 58]},\n",
       " {'a': [16, 288, 311, 423], 'b': [20, 30, 40, 50]}]"
      ]
     },
     "execution_count": 143,
     "metadata": {},
     "output_type": "execute_result"
    }
   ],
   "source": [
    "array_dictionary=[ \n",
    "    {\"a\":[1,2,3,4],\"b\":[2,3,4,5]},\n",
    "    {\"a\":[11,12,13,14],\"b\":[21,31,41,51]},\n",
    "    {\"a\":[13,26,378,421],\"b\":[28,31,41,58]},\n",
    "    {\"a\":[16,288,311,423],\"b\":[20,30,40,50]}]\n",
    "array_dictionary "
   ]
  },
  {
   "cell_type": "code",
   "execution_count": 164,
   "id": "2cc66822-27cd-4864-85d8-16a8b8bfe63c",
   "metadata": {},
   "outputs": [
    {
     "name": "stdout",
     "output_type": "stream",
     "text": [
      "0\n",
      "1\n",
      "2\n",
      "3\n",
      "4\n"
     ]
    }
   ],
   "source": [
    "for i in range(5):\n",
    "    print(i)"
   ]
  },
  {
   "cell_type": "code",
   "execution_count": 166,
   "id": "9771aae5-aff0-4f2f-8d82-7f06b8794e17",
   "metadata": {},
   "outputs": [
    {
     "name": "stdout",
     "output_type": "stream",
     "text": [
      "0 2\n",
      "1 3\n",
      "2 4\n",
      "3 5\n"
     ]
    }
   ],
   "source": [
    "for i, j in enumerate([2, 3, 4, 5]):\n",
    "    print(i, j)"
   ]
  },
  {
   "cell_type": "code",
   "execution_count": 294,
   "id": "e5ad6ca4-4037-48d2-abc6-0f4867f801dd",
   "metadata": {},
   "outputs": [],
   "source": [
    "def f(i):\n",
    "    return i*2"
   ]
  },
  {
   "cell_type": "code",
   "execution_count": 296,
   "id": "9de8faf8-6c93-4404-8972-027a1afa3b12",
   "metadata": {},
   "outputs": [],
   "source": [
    "def v(u) :\n",
    "    vr = u['a']\n",
    "    return vr;"
   ]
  },
  {
   "cell_type": "code",
   "execution_count": 298,
   "id": "409283b3-c6c2-47f1-958e-abe63aec4f07",
   "metadata": {},
   "outputs": [
    {
     "data": {
      "text/plain": [
       "7"
      ]
     },
     "execution_count": 298,
     "metadata": {},
     "output_type": "execute_result"
    }
   ],
   "source": [
    "f(3) + v({'a':[1, 2, 3, 4]})[0]"
   ]
  },
  {
   "cell_type": "code",
   "execution_count": 305,
   "id": "f9a0a8a9-ae73-4f8e-b1b7-44976e93d433",
   "metadata": {},
   "outputs": [],
   "source": [
    "def arr_sum(i):\n",
    "    # 배열을 받아서 총합을 구함\n",
    "    sum_1=0\n",
    "    for v in i:\n",
    "        sum_1+=v\n",
    "    return v"
   ]
  },
  {
   "cell_type": "code",
   "execution_count": 309,
   "id": "c37709de-f987-41fb-a0d6-c59f966892b2",
   "metadata": {},
   "outputs": [
    {
     "name": "stdout",
     "output_type": "stream",
     "text": [
      "Help on function arr_sum in module __main__:\n",
      "\n",
      "arr_sum(i)\n",
      "\n"
     ]
    }
   ],
   "source": [
    "help(arr_sum) #dostring"
   ]
  },
  {
   "cell_type": "code",
   "execution_count": 311,
   "id": "9fcc1b63-0677-4ae4-81e1-4a95da0f99a5",
   "metadata": {},
   "outputs": [
    {
     "name": "stdout",
     "output_type": "stream",
     "text": [
      "4\n",
      "14\n",
      "421\n",
      "423\n"
     ]
    }
   ],
   "source": [
    "for i in array_dictionary:\n",
    "    print(arr_sum(i['a']))"
   ]
  },
  {
   "cell_type": "code",
   "execution_count": 314,
   "id": "0e371bd8-3da9-4559-8fe1-98431a2e9b6e",
   "metadata": {},
   "outputs": [
    {
     "data": {
      "text/plain": [
       "10"
      ]
     },
     "execution_count": 314,
     "metadata": {},
     "output_type": "execute_result"
    }
   ],
   "source": [
    "sum([1, 2, 3, 4])"
   ]
  },
  {
   "cell_type": "code",
   "execution_count": 318,
   "id": "73d64821-808a-464f-af2e-770f82e1505d",
   "metadata": {},
   "outputs": [
    {
     "data": {
      "text/plain": [
       "{'a': 11, 'b': 23, 'c': 23}"
      ]
     },
     "execution_count": 318,
     "metadata": {},
     "output_type": "execute_result"
    }
   ],
   "source": [
    "obj3={'a':11}\n",
    "obj3.update({'b':23})\n",
    "obj3['c']=23\n",
    "obj3"
   ]
  },
  {
   "cell_type": "code",
   "execution_count": 324,
   "id": "ab22fd25-67cc-48db-b8c5-cbae8be49ff0",
   "metadata": {},
   "outputs": [
    {
     "data": {
      "text/plain": [
       "{'a': [4, 14, 421, 423], 'b': [5, 51, 58, 50]}"
      ]
     },
     "execution_count": 324,
     "metadata": {},
     "output_type": "execute_result"
    }
   ],
   "source": [
    "result = {\"a\":[], \"b\":[]}\n",
    "for i in array_dictionary:\n",
    "    result['a'].append(arr_sum(i['a']))\n",
    "for i in array_dictionary:\n",
    "    result['b'].append(arr_sum(i['b']))\n",
    "result"
   ]
  },
  {
   "cell_type": "code",
   "execution_count": 328,
   "id": "4a1d983b-b72e-4672-9ebd-2bcba423bcd8",
   "metadata": {},
   "outputs": [
    {
     "data": {
      "text/plain": [
       "dict_keys(['a', 'b', 'c'])"
      ]
     },
     "execution_count": 328,
     "metadata": {},
     "output_type": "execute_result"
    }
   ],
   "source": [
    "obj4 = {'a': 11, 'b': 23, 'c': 23}\n",
    "obj4.keys()"
   ]
  },
  {
   "cell_type": "code",
   "execution_count": 346,
   "id": "791abcad-f4b0-4cc3-85d2-e46ee13ef189",
   "metadata": {},
   "outputs": [
    {
     "name": "stdout",
     "output_type": "stream",
     "text": [
      "dict_keys([])\n",
      "dict_keys(['a'])\n"
     ]
    },
    {
     "data": {
      "text/plain": [
       "{'a': [], 'b': [5, 5, 51, 51, 58, 58, 50, 50]}"
      ]
     },
     "execution_count": 346,
     "metadata": {},
     "output_type": "execute_result"
    }
   ],
   "source": [
    "result = {}\n",
    "for i in array_dictionary: #dictionary를 가지고 있는 리스트\n",
    "    for j in i.keys(): # a, b가 하나씩 돌면서 j는 처음에 a이고 다음 반복에는 b가 됨\n",
    "        if j not in result.keys() : # 구하려는 result에 key가 추가되면 여기에 올 필요가 없다\n",
    "            result[j] = []\n",
    "    result[j].append(arr_sum(i[j]))\n",
    "    result[j].append(arr_sum(i[j]))\n",
    "result"
   ]
  },
  {
   "cell_type": "code",
   "execution_count": 348,
   "id": "9bedb1e9-79a8-42a1-b356-ead5ab7a02a1",
   "metadata": {},
   "outputs": [
    {
     "name": "stdout",
     "output_type": "stream",
     "text": [
      "0 1\n",
      "1 2\n",
      "2 3\n",
      "3 4\n"
     ]
    }
   ],
   "source": [
    "for idx, item in enumerate([1,2,3,4]):\n",
    "    print(idx, item)"
   ]
  },
  {
   "cell_type": "code",
   "execution_count": 400,
   "id": "275394c6-4179-45dd-88b2-a8381ca74bf8",
   "metadata": {},
   "outputs": [],
   "source": [
    "arr1 = [10, 20, 30, 40]\n",
    "arr2 = [23, 34, 11, 35]\n",
    "arr3 = [123, 134, 111, 135]"
   ]
  },
  {
   "cell_type": "code",
   "execution_count": 386,
   "id": "22a432b7-2092-4fcc-9afa-89150f3f1289",
   "metadata": {},
   "outputs": [
    {
     "data": {
      "text/plain": [
       "[33, 54, 41, 75]"
      ]
     },
     "execution_count": 386,
     "metadata": {},
     "output_type": "execute_result"
    }
   ],
   "source": [
    "lists = []\n",
    "for i in range(len(arr1)): #len은 리스트의 길이를 구하기 위한 함수\n",
    "    lists.append(arr1[i] +  arr2[i])\n",
    "lists"
   ]
  },
  {
   "cell_type": "code",
   "execution_count": 392,
   "id": "9e90705b-f4f0-4baa-be9f-c7e23b782ca4",
   "metadata": {},
   "outputs": [
    {
     "name": "stdout",
     "output_type": "stream",
     "text": [
      "10 23\n",
      "20 34\n",
      "30 11\n",
      "40 35\n"
     ]
    }
   ],
   "source": [
    "# 튜플\n",
    "for (i,j) in zip(arr1, arr2): \n",
    "    print(i, j)"
   ]
  },
  {
   "cell_type": "code",
   "execution_count": 394,
   "id": "54ad4424-eea2-41b0-9b68-25b2032eeedc",
   "metadata": {},
   "outputs": [
    {
     "data": {
      "text/plain": [
       "[33, 54, 41, 75]"
      ]
     },
     "execution_count": 394,
     "metadata": {},
     "output_type": "execute_result"
    }
   ],
   "source": [
    "lists = []\n",
    "for (i, j) in zip(arr1, arr2): \n",
    "    lists.append(i+j)\n",
    "lists"
   ]
  },
  {
   "cell_type": "code",
   "execution_count": 398,
   "id": "1544c4f2-395d-46f8-9fde-ee3a44fbbdab",
   "metadata": {},
   "outputs": [
    {
     "data": {
      "text/plain": [
       "[33, 54, 41, 75]"
      ]
     },
     "execution_count": 398,
     "metadata": {},
     "output_type": "execute_result"
    }
   ],
   "source": [
    "lists = [i+j for (i, j) in zip(arr1, arr2)]\n",
    "lists"
   ]
  },
  {
   "cell_type": "code",
   "execution_count": 388,
   "id": "b21e673f-ef8a-4ab9-aff7-3b429ad79d71",
   "metadata": {},
   "outputs": [],
   "source": [
    "for i in [] :\n",
    "    pass"
   ]
  },
  {
   "cell_type": "code",
   "execution_count": 416,
   "id": "abe0955a-310a-418d-b2a8-e025ae4dd4de",
   "metadata": {},
   "outputs": [
    {
     "data": {
      "text/plain": [
       "['저는 78.0입니다!', '저는 94.0입니다!', '저는 76.0입니다!', '저는 105.0입니다!']"
      ]
     },
     "execution_count": 416,
     "metadata": {},
     "output_type": "execute_result"
    }
   ],
   "source": [
    "lists = [\"저는 \" + str((i+j+k)/2)+\"입니다!\" for (i, j, k) in zip(arr1, arr2, arr3)]\n",
    "lists"
   ]
  },
  {
   "cell_type": "code",
   "execution_count": 512,
   "id": "760066f3-dea6-4d91-b9de-3fb58f72f159",
   "metadata": {},
   "outputs": [
    {
     "data": {
      "text/plain": [
       "[{'total_': 156, 'avg': 52.0},\n",
       " {'total_': 188, 'avg': 62.666666666666664},\n",
       " {'total_': 152, 'avg': 50.666666666666664},\n",
       " {'total_': 210, 'avg': 70.0}]"
      ]
     },
     "execution_count": 512,
     "metadata": {},
     "output_type": "execute_result"
    }
   ],
   "source": [
    "lists = [{\"total_\": + i+j+k, \"avg\": (i+j+k)/3} for (i, j, k) in zip(arr1, arr2, arr3)]\n",
    "lists"
   ]
  },
  {
   "cell_type": "code",
   "execution_count": 420,
   "id": "973e045d-e413-4af0-8c95-d814793395b8",
   "metadata": {},
   "outputs": [
    {
     "name": "stdout",
     "output_type": "stream",
     "text": [
      "a [10, 20]\n",
      "b [11, 23]\n"
     ]
    }
   ],
   "source": [
    "vvv = {'a': [10, 20], 'b':[11, 23]}\n",
    "for i, j in vvv.items():\n",
    "    print(i, j)"
   ]
  },
  {
   "cell_type": "code",
   "execution_count": 522,
   "id": "098b33df-b1c2-4631-8fa9-bcffe5762f03",
   "metadata": {},
   "outputs": [
    {
     "data": {
      "text/plain": [
       "{'total_avg1': 5126.666666666667,\n",
       " 'total_avg2': 5377.333333333334,\n",
       " 'total_avg3': 5580.000000000001,\n",
       " 'total_avg4': 5860.000000000001}"
      ]
     },
     "execution_count": 522,
     "metadata": {},
     "output_type": "execute_result"
    }
   ],
   "source": [
    "# {\"총합평균1\": 156 + 52.0, \"총합평균2\" ....}\n",
    "res_obj = {}\n",
    "for idx, i in enumerate(lists):\n",
    "    key = ''\n",
    "    values = 0\n",
    "    for (k,v) in i.items():\n",
    "        key+=k\n",
    "        item+=v\n",
    "    res_obj.update({key+str(idx+1): item})\n",
    "res_obj"
   ]
  },
  {
   "cell_type": "code",
   "execution_count": null,
   "id": "585ba9de-470f-4c1c-be2b-947a2c008bed",
   "metadata": {},
   "outputs": [],
   "source": []
  }
 ],
 "metadata": {
  "kernelspec": {
   "display_name": "Python [conda env:base] *",
   "language": "python",
   "name": "conda-base-py"
  },
  "language_info": {
   "codemirror_mode": {
    "name": "ipython",
    "version": 3
   },
   "file_extension": ".py",
   "mimetype": "text/x-python",
   "name": "python",
   "nbconvert_exporter": "python",
   "pygments_lexer": "ipython3",
   "version": "3.12.7"
  }
 },
 "nbformat": 4,
 "nbformat_minor": 5
}
