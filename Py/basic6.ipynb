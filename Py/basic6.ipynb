{
 "cells": [
  {
   "cell_type": "code",
   "execution_count": 3,
   "id": "25aebe0b-8dd2-41ff-8f54-6478bdeca153",
   "metadata": {},
   "outputs": [],
   "source": [
    "import pandas as pd\n",
    "import numpy as np"
   ]
  },
  {
   "cell_type": "code",
   "execution_count": 5,
   "id": "7d3d17e5-ad5f-4d01-99b1-6d56298d1aac",
   "metadata": {},
   "outputs": [
    {
     "data": {
      "text/html": [
       "<div>\n",
       "<style scoped>\n",
       "    .dataframe tbody tr th:only-of-type {\n",
       "        vertical-align: middle;\n",
       "    }\n",
       "\n",
       "    .dataframe tbody tr th {\n",
       "        vertical-align: top;\n",
       "    }\n",
       "\n",
       "    .dataframe thead th {\n",
       "        text-align: right;\n",
       "    }\n",
       "</style>\n",
       "<table border=\"1\" class=\"dataframe\">\n",
       "  <thead>\n",
       "    <tr style=\"text-align: right;\">\n",
       "      <th></th>\n",
       "      <th>INSTNM</th>\n",
       "      <th>CITY</th>\n",
       "      <th>STABBR</th>\n",
       "      <th>HBCU</th>\n",
       "      <th>MENONLY</th>\n",
       "      <th>WOMENONLY</th>\n",
       "      <th>RELAFFIL</th>\n",
       "      <th>SATVRMID</th>\n",
       "      <th>SATMTMID</th>\n",
       "      <th>DISTANCEONLY</th>\n",
       "      <th>...</th>\n",
       "      <th>UGDS_2MOR</th>\n",
       "      <th>UGDS_NRA</th>\n",
       "      <th>UGDS_UNKN</th>\n",
       "      <th>PPTUG_EF</th>\n",
       "      <th>CURROPER</th>\n",
       "      <th>PCTPELL</th>\n",
       "      <th>PCTFLOAN</th>\n",
       "      <th>UG25ABV</th>\n",
       "      <th>MD_EARN_WNE_P10</th>\n",
       "      <th>GRAD_DEBT_MDN_SUPP</th>\n",
       "    </tr>\n",
       "  </thead>\n",
       "  <tbody>\n",
       "    <tr>\n",
       "      <th>0</th>\n",
       "      <td>Alabama A &amp; M University</td>\n",
       "      <td>Normal</td>\n",
       "      <td>AL</td>\n",
       "      <td>1.0</td>\n",
       "      <td>0.0</td>\n",
       "      <td>0.0</td>\n",
       "      <td>0</td>\n",
       "      <td>424.0</td>\n",
       "      <td>420.0</td>\n",
       "      <td>0.0</td>\n",
       "      <td>...</td>\n",
       "      <td>0.0000</td>\n",
       "      <td>0.0059</td>\n",
       "      <td>0.0138</td>\n",
       "      <td>0.0656</td>\n",
       "      <td>1</td>\n",
       "      <td>0.7356</td>\n",
       "      <td>0.8284</td>\n",
       "      <td>0.1049</td>\n",
       "      <td>30300</td>\n",
       "      <td>33888</td>\n",
       "    </tr>\n",
       "    <tr>\n",
       "      <th>1</th>\n",
       "      <td>University of Alabama at Birmingham</td>\n",
       "      <td>Birmingham</td>\n",
       "      <td>AL</td>\n",
       "      <td>0.0</td>\n",
       "      <td>0.0</td>\n",
       "      <td>0.0</td>\n",
       "      <td>0</td>\n",
       "      <td>570.0</td>\n",
       "      <td>565.0</td>\n",
       "      <td>0.0</td>\n",
       "      <td>...</td>\n",
       "      <td>0.0368</td>\n",
       "      <td>0.0179</td>\n",
       "      <td>0.0100</td>\n",
       "      <td>0.2607</td>\n",
       "      <td>1</td>\n",
       "      <td>0.3460</td>\n",
       "      <td>0.5214</td>\n",
       "      <td>0.2422</td>\n",
       "      <td>39700</td>\n",
       "      <td>21941.5</td>\n",
       "    </tr>\n",
       "    <tr>\n",
       "      <th>2</th>\n",
       "      <td>Amridge University</td>\n",
       "      <td>Montgomery</td>\n",
       "      <td>AL</td>\n",
       "      <td>0.0</td>\n",
       "      <td>0.0</td>\n",
       "      <td>0.0</td>\n",
       "      <td>1</td>\n",
       "      <td>NaN</td>\n",
       "      <td>NaN</td>\n",
       "      <td>1.0</td>\n",
       "      <td>...</td>\n",
       "      <td>0.0000</td>\n",
       "      <td>0.0000</td>\n",
       "      <td>0.2715</td>\n",
       "      <td>0.4536</td>\n",
       "      <td>1</td>\n",
       "      <td>0.6801</td>\n",
       "      <td>0.7795</td>\n",
       "      <td>0.8540</td>\n",
       "      <td>40100</td>\n",
       "      <td>23370</td>\n",
       "    </tr>\n",
       "    <tr>\n",
       "      <th>3</th>\n",
       "      <td>University of Alabama in Huntsville</td>\n",
       "      <td>Huntsville</td>\n",
       "      <td>AL</td>\n",
       "      <td>0.0</td>\n",
       "      <td>0.0</td>\n",
       "      <td>0.0</td>\n",
       "      <td>0</td>\n",
       "      <td>595.0</td>\n",
       "      <td>590.0</td>\n",
       "      <td>0.0</td>\n",
       "      <td>...</td>\n",
       "      <td>0.0172</td>\n",
       "      <td>0.0332</td>\n",
       "      <td>0.0350</td>\n",
       "      <td>0.2146</td>\n",
       "      <td>1</td>\n",
       "      <td>0.3072</td>\n",
       "      <td>0.4596</td>\n",
       "      <td>0.2640</td>\n",
       "      <td>45500</td>\n",
       "      <td>24097</td>\n",
       "    </tr>\n",
       "    <tr>\n",
       "      <th>4</th>\n",
       "      <td>Alabama State University</td>\n",
       "      <td>Montgomery</td>\n",
       "      <td>AL</td>\n",
       "      <td>1.0</td>\n",
       "      <td>0.0</td>\n",
       "      <td>0.0</td>\n",
       "      <td>0</td>\n",
       "      <td>425.0</td>\n",
       "      <td>430.0</td>\n",
       "      <td>0.0</td>\n",
       "      <td>...</td>\n",
       "      <td>0.0098</td>\n",
       "      <td>0.0243</td>\n",
       "      <td>0.0137</td>\n",
       "      <td>0.0892</td>\n",
       "      <td>1</td>\n",
       "      <td>0.7347</td>\n",
       "      <td>0.7554</td>\n",
       "      <td>0.1270</td>\n",
       "      <td>26600</td>\n",
       "      <td>33118.5</td>\n",
       "    </tr>\n",
       "  </tbody>\n",
       "</table>\n",
       "<p>5 rows × 27 columns</p>\n",
       "</div>"
      ],
      "text/plain": [
       "                                INSTNM        CITY STABBR  HBCU  MENONLY  \\\n",
       "0             Alabama A & M University      Normal     AL   1.0      0.0   \n",
       "1  University of Alabama at Birmingham  Birmingham     AL   0.0      0.0   \n",
       "2                   Amridge University  Montgomery     AL   0.0      0.0   \n",
       "3  University of Alabama in Huntsville  Huntsville     AL   0.0      0.0   \n",
       "4             Alabama State University  Montgomery     AL   1.0      0.0   \n",
       "\n",
       "   WOMENONLY  RELAFFIL  SATVRMID  SATMTMID  DISTANCEONLY  ...  UGDS_2MOR  \\\n",
       "0        0.0         0     424.0     420.0           0.0  ...     0.0000   \n",
       "1        0.0         0     570.0     565.0           0.0  ...     0.0368   \n",
       "2        0.0         1       NaN       NaN           1.0  ...     0.0000   \n",
       "3        0.0         0     595.0     590.0           0.0  ...     0.0172   \n",
       "4        0.0         0     425.0     430.0           0.0  ...     0.0098   \n",
       "\n",
       "   UGDS_NRA  UGDS_UNKN  PPTUG_EF  CURROPER  PCTPELL  PCTFLOAN  UG25ABV  \\\n",
       "0    0.0059     0.0138    0.0656         1   0.7356    0.8284   0.1049   \n",
       "1    0.0179     0.0100    0.2607         1   0.3460    0.5214   0.2422   \n",
       "2    0.0000     0.2715    0.4536         1   0.6801    0.7795   0.8540   \n",
       "3    0.0332     0.0350    0.2146         1   0.3072    0.4596   0.2640   \n",
       "4    0.0243     0.0137    0.0892         1   0.7347    0.7554   0.1270   \n",
       "\n",
       "   MD_EARN_WNE_P10  GRAD_DEBT_MDN_SUPP  \n",
       "0            30300               33888  \n",
       "1            39700             21941.5  \n",
       "2            40100               23370  \n",
       "3            45500               24097  \n",
       "4            26600             33118.5  \n",
       "\n",
       "[5 rows x 27 columns]"
      ]
     },
     "execution_count": 5,
     "metadata": {},
     "output_type": "execute_result"
    }
   ],
   "source": [
    "college = pd.read_csv(\"data/college.csv\")\n",
    "college.head()"
   ]
  },
  {
   "cell_type": "code",
   "execution_count": 7,
   "id": "abce56b7-98c8-48e1-8ee2-8c328eef4817",
   "metadata": {},
   "outputs": [
    {
     "data": {
      "text/plain": [
       "(7535, 27)"
      ]
     },
     "execution_count": 7,
     "metadata": {},
     "output_type": "execute_result"
    }
   ],
   "source": [
    "college.shape"
   ]
  },
  {
   "cell_type": "code",
   "execution_count": 11,
   "id": "87281985-ee0a-4876-8567-7afcdc03d07c",
   "metadata": {},
   "outputs": [
    {
     "data": {
      "text/plain": [
       "<function nt.chdir(path)>"
      ]
     },
     "execution_count": 11,
     "metadata": {},
     "output_type": "execute_result"
    }
   ],
   "source": [
    "import os\n",
    "os.chdir('경로') # '작업 디렉토리 변경. '경로'에 바꿀 경로을 입력하면 됨'"
   ]
  },
  {
   "cell_type": "code",
   "execution_count": 13,
   "id": "82768fbd-5d1a-481b-9e1e-901f8c0107d8",
   "metadata": {},
   "outputs": [],
   "source": [
    "from IPython.display import display"
   ]
  },
  {
   "cell_type": "code",
   "execution_count": 21,
   "id": "985453e3-ecd4-4e4d-a599-a644d64d7ff7",
   "metadata": {},
   "outputs": [
    {
     "data": {
      "text/html": [
       "<div>\n",
       "<style scoped>\n",
       "    .dataframe tbody tr th:only-of-type {\n",
       "        vertical-align: middle;\n",
       "    }\n",
       "\n",
       "    .dataframe tbody tr th {\n",
       "        vertical-align: top;\n",
       "    }\n",
       "\n",
       "    .dataframe thead th {\n",
       "        text-align: right;\n",
       "    }\n",
       "</style>\n",
       "<table border=\"1\" class=\"dataframe\">\n",
       "  <thead>\n",
       "    <tr style=\"text-align: right;\">\n",
       "      <th></th>\n",
       "      <th>count</th>\n",
       "      <th>mean</th>\n",
       "      <th>std</th>\n",
       "      <th>min</th>\n",
       "      <th>25%</th>\n",
       "      <th>50%</th>\n",
       "      <th>75%</th>\n",
       "      <th>max</th>\n",
       "    </tr>\n",
       "  </thead>\n",
       "  <tbody>\n",
       "    <tr>\n",
       "      <th>HBCU</th>\n",
       "      <td>7164.0</td>\n",
       "      <td>0.014238</td>\n",
       "      <td>0.118478</td>\n",
       "      <td>0.0</td>\n",
       "      <td>0.0000</td>\n",
       "      <td>0.00000</td>\n",
       "      <td>0.000000</td>\n",
       "      <td>1.0</td>\n",
       "    </tr>\n",
       "    <tr>\n",
       "      <th>MENONLY</th>\n",
       "      <td>7164.0</td>\n",
       "      <td>0.009213</td>\n",
       "      <td>0.095546</td>\n",
       "      <td>0.0</td>\n",
       "      <td>0.0000</td>\n",
       "      <td>0.00000</td>\n",
       "      <td>0.000000</td>\n",
       "      <td>1.0</td>\n",
       "    </tr>\n",
       "    <tr>\n",
       "      <th>WOMENONLY</th>\n",
       "      <td>7164.0</td>\n",
       "      <td>0.005304</td>\n",
       "      <td>0.072642</td>\n",
       "      <td>0.0</td>\n",
       "      <td>0.0000</td>\n",
       "      <td>0.00000</td>\n",
       "      <td>0.000000</td>\n",
       "      <td>1.0</td>\n",
       "    </tr>\n",
       "    <tr>\n",
       "      <th>RELAFFIL</th>\n",
       "      <td>7535.0</td>\n",
       "      <td>0.190975</td>\n",
       "      <td>0.393096</td>\n",
       "      <td>0.0</td>\n",
       "      <td>0.0000</td>\n",
       "      <td>0.00000</td>\n",
       "      <td>0.000000</td>\n",
       "      <td>1.0</td>\n",
       "    </tr>\n",
       "    <tr>\n",
       "      <th>...</th>\n",
       "      <td>...</td>\n",
       "      <td>...</td>\n",
       "      <td>...</td>\n",
       "      <td>...</td>\n",
       "      <td>...</td>\n",
       "      <td>...</td>\n",
       "      <td>...</td>\n",
       "      <td>...</td>\n",
       "    </tr>\n",
       "    <tr>\n",
       "      <th>CURROPER</th>\n",
       "      <td>7535.0</td>\n",
       "      <td>0.923291</td>\n",
       "      <td>0.266146</td>\n",
       "      <td>0.0</td>\n",
       "      <td>1.0000</td>\n",
       "      <td>1.00000</td>\n",
       "      <td>1.000000</td>\n",
       "      <td>1.0</td>\n",
       "    </tr>\n",
       "    <tr>\n",
       "      <th>PCTPELL</th>\n",
       "      <td>6849.0</td>\n",
       "      <td>0.530643</td>\n",
       "      <td>0.225544</td>\n",
       "      <td>0.0</td>\n",
       "      <td>0.3578</td>\n",
       "      <td>0.52150</td>\n",
       "      <td>0.712900</td>\n",
       "      <td>1.0</td>\n",
       "    </tr>\n",
       "    <tr>\n",
       "      <th>PCTFLOAN</th>\n",
       "      <td>6849.0</td>\n",
       "      <td>0.522211</td>\n",
       "      <td>0.283616</td>\n",
       "      <td>0.0</td>\n",
       "      <td>0.3329</td>\n",
       "      <td>0.58330</td>\n",
       "      <td>0.745000</td>\n",
       "      <td>1.0</td>\n",
       "    </tr>\n",
       "    <tr>\n",
       "      <th>UG25ABV</th>\n",
       "      <td>6718.0</td>\n",
       "      <td>0.410021</td>\n",
       "      <td>0.228939</td>\n",
       "      <td>0.0</td>\n",
       "      <td>0.2415</td>\n",
       "      <td>0.40075</td>\n",
       "      <td>0.572275</td>\n",
       "      <td>1.0</td>\n",
       "    </tr>\n",
       "  </tbody>\n",
       "</table>\n",
       "<p>22 rows × 8 columns</p>\n",
       "</div>"
      ],
      "text/plain": [
       "            count      mean       std  min     25%      50%       75%  max\n",
       "HBCU       7164.0  0.014238  0.118478  0.0  0.0000  0.00000  0.000000  1.0\n",
       "MENONLY    7164.0  0.009213  0.095546  0.0  0.0000  0.00000  0.000000  1.0\n",
       "WOMENONLY  7164.0  0.005304  0.072642  0.0  0.0000  0.00000  0.000000  1.0\n",
       "RELAFFIL   7535.0  0.190975  0.393096  0.0  0.0000  0.00000  0.000000  1.0\n",
       "...           ...       ...       ...  ...     ...      ...       ...  ...\n",
       "CURROPER   7535.0  0.923291  0.266146  0.0  1.0000  1.00000  1.000000  1.0\n",
       "PCTPELL    6849.0  0.530643  0.225544  0.0  0.3578  0.52150  0.712900  1.0\n",
       "PCTFLOAN   6849.0  0.522211  0.283616  0.0  0.3329  0.58330  0.745000  1.0\n",
       "UG25ABV    6718.0  0.410021  0.228939  0.0  0.2415  0.40075  0.572275  1.0\n",
       "\n",
       "[22 rows x 8 columns]"
      ]
     },
     "metadata": {},
     "output_type": "display_data"
    }
   ],
   "source": [
    "with pd.option_context('display.max_rows', 8):\n",
    "    display(college.describe(include=[np.number]).T)"
   ]
  },
  {
   "cell_type": "code",
   "execution_count": 33,
   "id": "d4f79b13-160d-47e0-b9c2-d3a5cafe5c7c",
   "metadata": {},
   "outputs": [
    {
     "data": {
      "text/html": [
       "<div>\n",
       "<style scoped>\n",
       "    .dataframe tbody tr th:only-of-type {\n",
       "        vertical-align: middle;\n",
       "    }\n",
       "\n",
       "    .dataframe tbody tr th {\n",
       "        vertical-align: top;\n",
       "    }\n",
       "\n",
       "    .dataframe thead th {\n",
       "        text-align: right;\n",
       "    }\n",
       "</style>\n",
       "<table border=\"1\" class=\"dataframe\">\n",
       "  <thead>\n",
       "    <tr style=\"text-align: right;\">\n",
       "      <th></th>\n",
       "      <th>count</th>\n",
       "      <th>unique</th>\n",
       "      <th>top</th>\n",
       "      <th>freq</th>\n",
       "    </tr>\n",
       "  </thead>\n",
       "  <tbody>\n",
       "    <tr>\n",
       "      <th>INSTNM</th>\n",
       "      <td>7535</td>\n",
       "      <td>7535</td>\n",
       "      <td>Alabama A &amp; M University</td>\n",
       "      <td>1</td>\n",
       "    </tr>\n",
       "    <tr>\n",
       "      <th>CITY</th>\n",
       "      <td>7535</td>\n",
       "      <td>2514</td>\n",
       "      <td>New York</td>\n",
       "      <td>87</td>\n",
       "    </tr>\n",
       "    <tr>\n",
       "      <th>STABBR</th>\n",
       "      <td>7535</td>\n",
       "      <td>59</td>\n",
       "      <td>CA</td>\n",
       "      <td>773</td>\n",
       "    </tr>\n",
       "    <tr>\n",
       "      <th>MD_EARN_WNE_P10</th>\n",
       "      <td>6413</td>\n",
       "      <td>598</td>\n",
       "      <td>PrivacySuppressed</td>\n",
       "      <td>822</td>\n",
       "    </tr>\n",
       "    <tr>\n",
       "      <th>GRAD_DEBT_MDN_SUPP</th>\n",
       "      <td>7503</td>\n",
       "      <td>2038</td>\n",
       "      <td>PrivacySuppressed</td>\n",
       "      <td>1510</td>\n",
       "    </tr>\n",
       "  </tbody>\n",
       "</table>\n",
       "</div>"
      ],
      "text/plain": [
       "                   count unique                       top  freq\n",
       "INSTNM              7535   7535  Alabama A & M University     1\n",
       "CITY                7535   2514                  New York    87\n",
       "STABBR              7535     59                        CA   773\n",
       "MD_EARN_WNE_P10     6413    598         PrivacySuppressed   822\n",
       "GRAD_DEBT_MDN_SUPP  7503   2038         PrivacySuppressed  1510"
      ]
     },
     "execution_count": 33,
     "metadata": {},
     "output_type": "execute_result"
    }
   ],
   "source": [
    "college.describe(include=[object, pd.Categorical]).T # np.object_"
   ]
  },
  {
   "cell_type": "code",
   "execution_count": 35,
   "id": "d61c2dfe-7e08-4400-83e8-2b08efaaec3b",
   "metadata": {},
   "outputs": [
    {
     "data": {
      "text/html": [
       "<div>\n",
       "<style scoped>\n",
       "    .dataframe tbody tr th:only-of-type {\n",
       "        vertical-align: middle;\n",
       "    }\n",
       "\n",
       "    .dataframe tbody tr th {\n",
       "        vertical-align: top;\n",
       "    }\n",
       "\n",
       "    .dataframe thead th {\n",
       "        text-align: right;\n",
       "    }\n",
       "</style>\n",
       "<table border=\"1\" class=\"dataframe\">\n",
       "  <thead>\n",
       "    <tr style=\"text-align: right;\">\n",
       "      <th></th>\n",
       "      <th>count</th>\n",
       "      <th>mean</th>\n",
       "      <th>std</th>\n",
       "      <th>min</th>\n",
       "      <th>25%</th>\n",
       "      <th>50%</th>\n",
       "      <th>75%</th>\n",
       "      <th>max</th>\n",
       "    </tr>\n",
       "  </thead>\n",
       "  <tbody>\n",
       "    <tr>\n",
       "      <th>HBCU</th>\n",
       "      <td>7164.0</td>\n",
       "      <td>0.014238</td>\n",
       "      <td>0.118478</td>\n",
       "      <td>0.0</td>\n",
       "      <td>0.000000</td>\n",
       "      <td>0.00000</td>\n",
       "      <td>0.000000</td>\n",
       "      <td>1.0000</td>\n",
       "    </tr>\n",
       "    <tr>\n",
       "      <th>MENONLY</th>\n",
       "      <td>7164.0</td>\n",
       "      <td>0.009213</td>\n",
       "      <td>0.095546</td>\n",
       "      <td>0.0</td>\n",
       "      <td>0.000000</td>\n",
       "      <td>0.00000</td>\n",
       "      <td>0.000000</td>\n",
       "      <td>1.0000</td>\n",
       "    </tr>\n",
       "    <tr>\n",
       "      <th>WOMENONLY</th>\n",
       "      <td>7164.0</td>\n",
       "      <td>0.005304</td>\n",
       "      <td>0.072642</td>\n",
       "      <td>0.0</td>\n",
       "      <td>0.000000</td>\n",
       "      <td>0.00000</td>\n",
       "      <td>0.000000</td>\n",
       "      <td>1.0000</td>\n",
       "    </tr>\n",
       "    <tr>\n",
       "      <th>RELAFFIL</th>\n",
       "      <td>7535.0</td>\n",
       "      <td>0.190975</td>\n",
       "      <td>0.393096</td>\n",
       "      <td>0.0</td>\n",
       "      <td>0.000000</td>\n",
       "      <td>0.00000</td>\n",
       "      <td>0.000000</td>\n",
       "      <td>1.0000</td>\n",
       "    </tr>\n",
       "    <tr>\n",
       "      <th>SATVRMID</th>\n",
       "      <td>1185.0</td>\n",
       "      <td>522.819409</td>\n",
       "      <td>68.578862</td>\n",
       "      <td>290.0</td>\n",
       "      <td>475.000000</td>\n",
       "      <td>510.00000</td>\n",
       "      <td>555.000000</td>\n",
       "      <td>765.0000</td>\n",
       "    </tr>\n",
       "    <tr>\n",
       "      <th>SATMTMID</th>\n",
       "      <td>1196.0</td>\n",
       "      <td>530.765050</td>\n",
       "      <td>73.469767</td>\n",
       "      <td>310.0</td>\n",
       "      <td>482.000000</td>\n",
       "      <td>520.00000</td>\n",
       "      <td>565.000000</td>\n",
       "      <td>785.0000</td>\n",
       "    </tr>\n",
       "    <tr>\n",
       "      <th>DISTANCEONLY</th>\n",
       "      <td>7164.0</td>\n",
       "      <td>0.005583</td>\n",
       "      <td>0.074519</td>\n",
       "      <td>0.0</td>\n",
       "      <td>0.000000</td>\n",
       "      <td>0.00000</td>\n",
       "      <td>0.000000</td>\n",
       "      <td>1.0000</td>\n",
       "    </tr>\n",
       "    <tr>\n",
       "      <th>UGDS</th>\n",
       "      <td>6874.0</td>\n",
       "      <td>2356.837940</td>\n",
       "      <td>5474.275871</td>\n",
       "      <td>0.0</td>\n",
       "      <td>117.000000</td>\n",
       "      <td>412.50000</td>\n",
       "      <td>1929.500000</td>\n",
       "      <td>151558.0000</td>\n",
       "    </tr>\n",
       "    <tr>\n",
       "      <th>UGDS_WHITE</th>\n",
       "      <td>6874.0</td>\n",
       "      <td>0.510207</td>\n",
       "      <td>0.286958</td>\n",
       "      <td>0.0</td>\n",
       "      <td>0.267500</td>\n",
       "      <td>0.55570</td>\n",
       "      <td>0.747875</td>\n",
       "      <td>1.0000</td>\n",
       "    </tr>\n",
       "    <tr>\n",
       "      <th>UGDS_BLACK</th>\n",
       "      <td>6874.0</td>\n",
       "      <td>0.189997</td>\n",
       "      <td>0.224587</td>\n",
       "      <td>0.0</td>\n",
       "      <td>0.036125</td>\n",
       "      <td>0.10005</td>\n",
       "      <td>0.257700</td>\n",
       "      <td>1.0000</td>\n",
       "    </tr>\n",
       "    <tr>\n",
       "      <th>UGDS_HISP</th>\n",
       "      <td>6874.0</td>\n",
       "      <td>0.161635</td>\n",
       "      <td>0.221854</td>\n",
       "      <td>0.0</td>\n",
       "      <td>0.027600</td>\n",
       "      <td>0.07140</td>\n",
       "      <td>0.198875</td>\n",
       "      <td>1.0000</td>\n",
       "    </tr>\n",
       "    <tr>\n",
       "      <th>UGDS_ASIAN</th>\n",
       "      <td>6874.0</td>\n",
       "      <td>0.033544</td>\n",
       "      <td>0.073777</td>\n",
       "      <td>0.0</td>\n",
       "      <td>0.002500</td>\n",
       "      <td>0.01290</td>\n",
       "      <td>0.032700</td>\n",
       "      <td>0.9727</td>\n",
       "    </tr>\n",
       "    <tr>\n",
       "      <th>UGDS_AIAN</th>\n",
       "      <td>6874.0</td>\n",
       "      <td>0.013813</td>\n",
       "      <td>0.070196</td>\n",
       "      <td>0.0</td>\n",
       "      <td>0.000000</td>\n",
       "      <td>0.00260</td>\n",
       "      <td>0.007300</td>\n",
       "      <td>1.0000</td>\n",
       "    </tr>\n",
       "    <tr>\n",
       "      <th>UGDS_NHPI</th>\n",
       "      <td>6874.0</td>\n",
       "      <td>0.004569</td>\n",
       "      <td>0.033125</td>\n",
       "      <td>0.0</td>\n",
       "      <td>0.000000</td>\n",
       "      <td>0.00000</td>\n",
       "      <td>0.002500</td>\n",
       "      <td>0.9983</td>\n",
       "    </tr>\n",
       "    <tr>\n",
       "      <th>UGDS_2MOR</th>\n",
       "      <td>6874.0</td>\n",
       "      <td>0.023950</td>\n",
       "      <td>0.031288</td>\n",
       "      <td>0.0</td>\n",
       "      <td>0.000000</td>\n",
       "      <td>0.01750</td>\n",
       "      <td>0.033900</td>\n",
       "      <td>0.5333</td>\n",
       "    </tr>\n",
       "    <tr>\n",
       "      <th>UGDS_NRA</th>\n",
       "      <td>6874.0</td>\n",
       "      <td>0.016086</td>\n",
       "      <td>0.050172</td>\n",
       "      <td>0.0</td>\n",
       "      <td>0.000000</td>\n",
       "      <td>0.00000</td>\n",
       "      <td>0.011700</td>\n",
       "      <td>0.9286</td>\n",
       "    </tr>\n",
       "    <tr>\n",
       "      <th>UGDS_UNKN</th>\n",
       "      <td>6874.0</td>\n",
       "      <td>0.045181</td>\n",
       "      <td>0.093440</td>\n",
       "      <td>0.0</td>\n",
       "      <td>0.000000</td>\n",
       "      <td>0.01430</td>\n",
       "      <td>0.045400</td>\n",
       "      <td>0.9027</td>\n",
       "    </tr>\n",
       "    <tr>\n",
       "      <th>PPTUG_EF</th>\n",
       "      <td>6853.0</td>\n",
       "      <td>0.226639</td>\n",
       "      <td>0.246470</td>\n",
       "      <td>0.0</td>\n",
       "      <td>0.000000</td>\n",
       "      <td>0.15040</td>\n",
       "      <td>0.376900</td>\n",
       "      <td>1.0000</td>\n",
       "    </tr>\n",
       "    <tr>\n",
       "      <th>CURROPER</th>\n",
       "      <td>7535.0</td>\n",
       "      <td>0.923291</td>\n",
       "      <td>0.266146</td>\n",
       "      <td>0.0</td>\n",
       "      <td>1.000000</td>\n",
       "      <td>1.00000</td>\n",
       "      <td>1.000000</td>\n",
       "      <td>1.0000</td>\n",
       "    </tr>\n",
       "    <tr>\n",
       "      <th>PCTPELL</th>\n",
       "      <td>6849.0</td>\n",
       "      <td>0.530643</td>\n",
       "      <td>0.225544</td>\n",
       "      <td>0.0</td>\n",
       "      <td>0.357800</td>\n",
       "      <td>0.52150</td>\n",
       "      <td>0.712900</td>\n",
       "      <td>1.0000</td>\n",
       "    </tr>\n",
       "    <tr>\n",
       "      <th>PCTFLOAN</th>\n",
       "      <td>6849.0</td>\n",
       "      <td>0.522211</td>\n",
       "      <td>0.283616</td>\n",
       "      <td>0.0</td>\n",
       "      <td>0.332900</td>\n",
       "      <td>0.58330</td>\n",
       "      <td>0.745000</td>\n",
       "      <td>1.0000</td>\n",
       "    </tr>\n",
       "    <tr>\n",
       "      <th>UG25ABV</th>\n",
       "      <td>6718.0</td>\n",
       "      <td>0.410021</td>\n",
       "      <td>0.228939</td>\n",
       "      <td>0.0</td>\n",
       "      <td>0.241500</td>\n",
       "      <td>0.40075</td>\n",
       "      <td>0.572275</td>\n",
       "      <td>1.0000</td>\n",
       "    </tr>\n",
       "  </tbody>\n",
       "</table>\n",
       "</div>"
      ],
      "text/plain": [
       "               count         mean          std    min         25%        50%  \\\n",
       "HBCU          7164.0     0.014238     0.118478    0.0    0.000000    0.00000   \n",
       "MENONLY       7164.0     0.009213     0.095546    0.0    0.000000    0.00000   \n",
       "WOMENONLY     7164.0     0.005304     0.072642    0.0    0.000000    0.00000   \n",
       "RELAFFIL      7535.0     0.190975     0.393096    0.0    0.000000    0.00000   \n",
       "SATVRMID      1185.0   522.819409    68.578862  290.0  475.000000  510.00000   \n",
       "SATMTMID      1196.0   530.765050    73.469767  310.0  482.000000  520.00000   \n",
       "DISTANCEONLY  7164.0     0.005583     0.074519    0.0    0.000000    0.00000   \n",
       "UGDS          6874.0  2356.837940  5474.275871    0.0  117.000000  412.50000   \n",
       "UGDS_WHITE    6874.0     0.510207     0.286958    0.0    0.267500    0.55570   \n",
       "UGDS_BLACK    6874.0     0.189997     0.224587    0.0    0.036125    0.10005   \n",
       "UGDS_HISP     6874.0     0.161635     0.221854    0.0    0.027600    0.07140   \n",
       "UGDS_ASIAN    6874.0     0.033544     0.073777    0.0    0.002500    0.01290   \n",
       "UGDS_AIAN     6874.0     0.013813     0.070196    0.0    0.000000    0.00260   \n",
       "UGDS_NHPI     6874.0     0.004569     0.033125    0.0    0.000000    0.00000   \n",
       "UGDS_2MOR     6874.0     0.023950     0.031288    0.0    0.000000    0.01750   \n",
       "UGDS_NRA      6874.0     0.016086     0.050172    0.0    0.000000    0.00000   \n",
       "UGDS_UNKN     6874.0     0.045181     0.093440    0.0    0.000000    0.01430   \n",
       "PPTUG_EF      6853.0     0.226639     0.246470    0.0    0.000000    0.15040   \n",
       "CURROPER      7535.0     0.923291     0.266146    0.0    1.000000    1.00000   \n",
       "PCTPELL       6849.0     0.530643     0.225544    0.0    0.357800    0.52150   \n",
       "PCTFLOAN      6849.0     0.522211     0.283616    0.0    0.332900    0.58330   \n",
       "UG25ABV       6718.0     0.410021     0.228939    0.0    0.241500    0.40075   \n",
       "\n",
       "                      75%          max  \n",
       "HBCU             0.000000       1.0000  \n",
       "MENONLY          0.000000       1.0000  \n",
       "WOMENONLY        0.000000       1.0000  \n",
       "RELAFFIL         0.000000       1.0000  \n",
       "SATVRMID       555.000000     765.0000  \n",
       "SATMTMID       565.000000     785.0000  \n",
       "DISTANCEONLY     0.000000       1.0000  \n",
       "UGDS          1929.500000  151558.0000  \n",
       "UGDS_WHITE       0.747875       1.0000  \n",
       "UGDS_BLACK       0.257700       1.0000  \n",
       "UGDS_HISP        0.198875       1.0000  \n",
       "UGDS_ASIAN       0.032700       0.9727  \n",
       "UGDS_AIAN        0.007300       1.0000  \n",
       "UGDS_NHPI        0.002500       0.9983  \n",
       "UGDS_2MOR        0.033900       0.5333  \n",
       "UGDS_NRA         0.011700       0.9286  \n",
       "UGDS_UNKN        0.045400       0.9027  \n",
       "PPTUG_EF         0.376900       1.0000  \n",
       "CURROPER         1.000000       1.0000  \n",
       "PCTPELL          0.712900       1.0000  \n",
       "PCTFLOAN         0.745000       1.0000  \n",
       "UG25ABV          0.572275       1.0000  "
      ]
     },
     "execution_count": 35,
     "metadata": {},
     "output_type": "execute_result"
    }
   ],
   "source": [
    "college.describe(include=['number']).T"
   ]
  },
  {
   "cell_type": "code",
   "execution_count": 39,
   "id": "9ad4c431-6c13-470c-89bf-3b52dbdaab7f",
   "metadata": {},
   "outputs": [
    {
     "data": {
      "text/html": [
       "<div>\n",
       "<style scoped>\n",
       "    .dataframe tbody tr th:only-of-type {\n",
       "        vertical-align: middle;\n",
       "    }\n",
       "\n",
       "    .dataframe tbody tr th {\n",
       "        vertical-align: top;\n",
       "    }\n",
       "\n",
       "    .dataframe thead th {\n",
       "        text-align: right;\n",
       "    }\n",
       "</style>\n",
       "<table border=\"1\" class=\"dataframe\">\n",
       "  <thead>\n",
       "    <tr style=\"text-align: right;\">\n",
       "      <th></th>\n",
       "      <th>Animal</th>\n",
       "      <th>Max Speed</th>\n",
       "    </tr>\n",
       "  </thead>\n",
       "  <tbody>\n",
       "    <tr>\n",
       "      <th>0</th>\n",
       "      <td>Falcon</td>\n",
       "      <td>380.0</td>\n",
       "    </tr>\n",
       "    <tr>\n",
       "      <th>1</th>\n",
       "      <td>Falcon</td>\n",
       "      <td>370.0</td>\n",
       "    </tr>\n",
       "    <tr>\n",
       "      <th>2</th>\n",
       "      <td>Parrot</td>\n",
       "      <td>24.0</td>\n",
       "    </tr>\n",
       "    <tr>\n",
       "      <th>3</th>\n",
       "      <td>Parrot</td>\n",
       "      <td>26.0</td>\n",
       "    </tr>\n",
       "  </tbody>\n",
       "</table>\n",
       "</div>"
      ],
      "text/plain": [
       "   Animal  Max Speed\n",
       "0  Falcon      380.0\n",
       "1  Falcon      370.0\n",
       "2  Parrot       24.0\n",
       "3  Parrot       26.0"
      ]
     },
     "execution_count": 39,
     "metadata": {},
     "output_type": "execute_result"
    }
   ],
   "source": [
    "df = pd.DataFrame({'Animal': ['Falcon', 'Falcon',\n",
    "                              'Parrot', 'Parrot'],\n",
    "                   'Max Speed': [380., 370., 24., 26.]})\n",
    "df"
   ]
  },
  {
   "cell_type": "code",
   "execution_count": 41,
   "id": "e00e9087-1176-4a7c-a171-31d806fa6583",
   "metadata": {},
   "outputs": [
    {
     "data": {
      "text/html": [
       "<div>\n",
       "<style scoped>\n",
       "    .dataframe tbody tr th:only-of-type {\n",
       "        vertical-align: middle;\n",
       "    }\n",
       "\n",
       "    .dataframe tbody tr th {\n",
       "        vertical-align: top;\n",
       "    }\n",
       "\n",
       "    .dataframe thead th {\n",
       "        text-align: right;\n",
       "    }\n",
       "</style>\n",
       "<table border=\"1\" class=\"dataframe\">\n",
       "  <thead>\n",
       "    <tr style=\"text-align: right;\">\n",
       "      <th></th>\n",
       "      <th>Max Speed</th>\n",
       "    </tr>\n",
       "    <tr>\n",
       "      <th>Animal</th>\n",
       "      <th></th>\n",
       "    </tr>\n",
       "  </thead>\n",
       "  <tbody>\n",
       "    <tr>\n",
       "      <th>Falcon</th>\n",
       "      <td>375.0</td>\n",
       "    </tr>\n",
       "    <tr>\n",
       "      <th>Parrot</th>\n",
       "      <td>25.0</td>\n",
       "    </tr>\n",
       "  </tbody>\n",
       "</table>\n",
       "</div>"
      ],
      "text/plain": [
       "        Max Speed\n",
       "Animal           \n",
       "Falcon      375.0\n",
       "Parrot       25.0"
      ]
     },
     "execution_count": 41,
     "metadata": {},
     "output_type": "execute_result"
    }
   ],
   "source": [
    "df.groupby(['Animal']).mean()"
   ]
  },
  {
   "cell_type": "code",
   "execution_count": 57,
   "id": "d72aacf1-5140-4f06-a77d-a8a5299cc8d6",
   "metadata": {},
   "outputs": [
    {
     "data": {
      "text/html": [
       "<div>\n",
       "<style scoped>\n",
       "    .dataframe tbody tr th:only-of-type {\n",
       "        vertical-align: middle;\n",
       "    }\n",
       "\n",
       "    .dataframe tbody tr th {\n",
       "        vertical-align: top;\n",
       "    }\n",
       "\n",
       "    .dataframe thead tr th {\n",
       "        text-align: left;\n",
       "    }\n",
       "\n",
       "    .dataframe thead tr:last-of-type th {\n",
       "        text-align: right;\n",
       "    }\n",
       "</style>\n",
       "<table border=\"1\" class=\"dataframe\">\n",
       "  <thead>\n",
       "    <tr>\n",
       "      <th></th>\n",
       "      <th colspan=\"5\" halign=\"left\">Max Speed</th>\n",
       "    </tr>\n",
       "    <tr>\n",
       "      <th></th>\n",
       "      <th>mean</th>\n",
       "      <th>sum</th>\n",
       "      <th>std</th>\n",
       "      <th>count</th>\n",
       "      <th>quantile</th>\n",
       "    </tr>\n",
       "    <tr>\n",
       "      <th>Animal</th>\n",
       "      <th></th>\n",
       "      <th></th>\n",
       "      <th></th>\n",
       "      <th></th>\n",
       "      <th></th>\n",
       "    </tr>\n",
       "  </thead>\n",
       "  <tbody>\n",
       "    <tr>\n",
       "      <th>Falcon</th>\n",
       "      <td>375.0</td>\n",
       "      <td>750.0</td>\n",
       "      <td>7.071068</td>\n",
       "      <td>2</td>\n",
       "      <td>375.0</td>\n",
       "    </tr>\n",
       "    <tr>\n",
       "      <th>Parrot</th>\n",
       "      <td>25.0</td>\n",
       "      <td>50.0</td>\n",
       "      <td>1.414214</td>\n",
       "      <td>2</td>\n",
       "      <td>25.0</td>\n",
       "    </tr>\n",
       "  </tbody>\n",
       "</table>\n",
       "</div>"
      ],
      "text/plain": [
       "       Max Speed                                \n",
       "            mean    sum       std count quantile\n",
       "Animal                                          \n",
       "Falcon     375.0  750.0  7.071068     2    375.0\n",
       "Parrot      25.0   50.0  1.414214     2     25.0"
      ]
     },
     "execution_count": 57,
     "metadata": {},
     "output_type": "execute_result"
    }
   ],
   "source": [
    "df.groupby(['Animal']).agg(['mean', 'sum', 'std', 'count', 'quantile'])"
   ]
  },
  {
   "cell_type": "code",
   "execution_count": 87,
   "id": "f9a34dfb-52b4-47fe-9aff-233e658cdbcf",
   "metadata": {},
   "outputs": [],
   "source": [
    "def f(i):\n",
    "    print(\"sum: \", sum(i), )\n",
    "    return \"사랑의 수는 \" + str(len(i)) +\" 입니다, 합은 \" + str(sum(i)) + \"입니다\""
   ]
  },
  {
   "cell_type": "code",
   "execution_count": 89,
   "id": "93d8507e-9ec7-435c-9ba9-c90be2f33c1d",
   "metadata": {},
   "outputs": [
    {
     "name": "stdout",
     "output_type": "stream",
     "text": [
      "sum:  750.0\n",
      "sum:  50.0\n"
     ]
    },
    {
     "data": {
      "text/html": [
       "<div>\n",
       "<style scoped>\n",
       "    .dataframe tbody tr th:only-of-type {\n",
       "        vertical-align: middle;\n",
       "    }\n",
       "\n",
       "    .dataframe tbody tr th {\n",
       "        vertical-align: top;\n",
       "    }\n",
       "\n",
       "    .dataframe thead tr th {\n",
       "        text-align: left;\n",
       "    }\n",
       "\n",
       "    .dataframe thead tr:last-of-type th {\n",
       "        text-align: right;\n",
       "    }\n",
       "</style>\n",
       "<table border=\"1\" class=\"dataframe\">\n",
       "  <thead>\n",
       "    <tr>\n",
       "      <th></th>\n",
       "      <th colspan=\"6\" halign=\"left\">Max Speed</th>\n",
       "    </tr>\n",
       "    <tr>\n",
       "      <th></th>\n",
       "      <th>mean</th>\n",
       "      <th>sum</th>\n",
       "      <th>std</th>\n",
       "      <th>count</th>\n",
       "      <th>quantile</th>\n",
       "      <th>f</th>\n",
       "    </tr>\n",
       "    <tr>\n",
       "      <th>Animal</th>\n",
       "      <th></th>\n",
       "      <th></th>\n",
       "      <th></th>\n",
       "      <th></th>\n",
       "      <th></th>\n",
       "      <th></th>\n",
       "    </tr>\n",
       "  </thead>\n",
       "  <tbody>\n",
       "    <tr>\n",
       "      <th>Falcon</th>\n",
       "      <td>375.0</td>\n",
       "      <td>750.0</td>\n",
       "      <td>7.071068</td>\n",
       "      <td>2</td>\n",
       "      <td>375.0</td>\n",
       "      <td>사랑의 수는 2 입니다, 합은 750.0입니다</td>\n",
       "    </tr>\n",
       "    <tr>\n",
       "      <th>Parrot</th>\n",
       "      <td>25.0</td>\n",
       "      <td>50.0</td>\n",
       "      <td>1.414214</td>\n",
       "      <td>2</td>\n",
       "      <td>25.0</td>\n",
       "      <td>사랑의 수는 2 입니다, 합은 50.0입니다</td>\n",
       "    </tr>\n",
       "  </tbody>\n",
       "</table>\n",
       "</div>"
      ],
      "text/plain": [
       "       Max Speed                                                           \n",
       "            mean    sum       std count quantile                          f\n",
       "Animal                                                                     \n",
       "Falcon     375.0  750.0  7.071068     2    375.0  사랑의 수는 2 입니다, 합은 750.0입니다\n",
       "Parrot      25.0   50.0  1.414214     2     25.0   사랑의 수는 2 입니다, 합은 50.0입니다"
      ]
     },
     "execution_count": 89,
     "metadata": {},
     "output_type": "execute_result"
    }
   ],
   "source": [
    "df.groupby(['Animal']).agg(['mean', 'sum', 'std', 'count', 'quantile', f])"
   ]
  },
  {
   "cell_type": "code",
   "execution_count": 93,
   "id": "2ecb4bb7-bee3-4faa-801f-5c126384d361",
   "metadata": {},
   "outputs": [
    {
     "data": {
      "text/plain": [
       "[2, 3, 4, 5]"
      ]
     },
     "execution_count": 93,
     "metadata": {},
     "output_type": "execute_result"
    }
   ],
   "source": [
    "list(map(lambda i : i+1, [1, 2, 3, 4] ))"
   ]
  },
  {
   "cell_type": "code",
   "execution_count": 165,
   "id": "5e18b874-124e-4c9b-a170-e3ab3be36c4a",
   "metadata": {},
   "outputs": [
    {
     "data": {
      "text/plain": [
       "[2, 4]"
      ]
     },
     "execution_count": 165,
     "metadata": {},
     "output_type": "execute_result"
    }
   ],
   "source": [
    "list(filter(lambda i : i%2==0, [1, 2, 3, 4] ))"
   ]
  },
  {
   "cell_type": "code",
   "execution_count": 95,
   "id": "a252ca3d-04d3-47d4-b94d-3f3d5b10339e",
   "metadata": {},
   "outputs": [
    {
     "data": {
      "text/plain": [
       "[{'홍길동': [11, 23, 45, 67, 88], '이재오': [12, 45, 67, 88, 66]},\n",
       " {'홍길동': [111, 213, 415, 617, 818], '이재오': [122, 425, 627, 828, 626]},\n",
       " {'홍길동': [131, 323, 435, 637, 838], '이재오': [132, 435, 677, 818, 3]},\n",
       " {'홍길동': [6, 8, 1, 7, 9], '이재오': [12, -1, -2, 88, -3]},\n",
       " {'홍길동': [34, 77, 66, 67, -3], '이재오': [-123, -67, -88, -66]}]"
      ]
     },
     "execution_count": 95,
     "metadata": {},
     "output_type": "execute_result"
    }
   ],
   "source": [
    "list_of_dictionary=[\n",
    "    {\"홍길동\":[11,23,45,67,88],\"이재오\":[12,45,67,88,66]}, \n",
    "    {\"홍길동\":[111,213,415,617,818],\"이재오\":[122,425,627,828,626]}, \n",
    "    {\"홍길동\":[131,323,435,637,838],\"이재오\":[132,435,677,818,3]}, \n",
    "    {\"홍길동\":[6,8,1,7,9],\"이재오\":[12,-1,-2,88,-3]}, \n",
    "    {\"홍길동\":[34,77,66,67,-3],\"이재오\":[-78-45,-67,-88,-66]}\n",
    "]\n",
    "list_of_dictionary\n",
    "# 문제) {홍길동 : [11, 23, 45, 67, 88 + ... + ],\n",
    "# 이재오짝수 : [12, 88, 66 + ...],\n",
    "# 이재오홀수 : [45, 67, ...]"
   ]
  },
  {
   "cell_type": "code",
   "execution_count": 99,
   "id": "d37e29d3-355c-4fa6-aff4-1e2baa07e5db",
   "metadata": {},
   "outputs": [
    {
     "data": {
      "text/plain": [
       "11"
      ]
     },
     "execution_count": 99,
     "metadata": {},
     "output_type": "execute_result"
    }
   ],
   "source": [
    "abs(-11) # 절대값"
   ]
  },
  {
   "cell_type": "code",
   "execution_count": 255,
   "id": "9bee9b8a-c053-466d-9b2f-9d188c09783b",
   "metadata": {},
   "outputs": [],
   "source": [
    "def f(i):\n",
    "    res = 0\n",
    "    for v in i:\n",
    "        res+=v\n",
    "    return res"
   ]
  },
  {
   "cell_type": "code",
   "execution_count": 275,
   "id": "7584e0cb-eddc-4318-8571-39acd75b8855",
   "metadata": {},
   "outputs": [
    {
     "data": {
      "text/plain": [
       "{'홍길동': [234, 2174, 2364, 31, 241]}"
      ]
     },
     "execution_count": 275,
     "metadata": {},
     "output_type": "execute_result"
    }
   ],
   "source": [
    "dict1={\"홍길동\": []}\n",
    "for i in list_of_dictionary:\n",
    "    dict1[\"홍길동\"].append(f(i[\"홍길동\"])) # == sum()\n",
    "dict1"
   ]
  },
  {
   "cell_type": "code",
   "execution_count": 259,
   "id": "bc3a9d9d-5c54-462e-9c5d-fc2b4db2b758",
   "metadata": {},
   "outputs": [],
   "source": [
    "def split_odd_even(i):\n",
    "    res_odd = []\n",
    "    res_even = []\n",
    "    for j in i :\n",
    "        if(j%2==0): res_even.append(j)\n",
    "        else: res_odd.append(j)\n",
    "    return [res_odd, res_even]"
   ]
  },
  {
   "cell_type": "code",
   "execution_count": 273,
   "id": "1e04d689-59d7-4051-84b0-6a46e1c2e27e",
   "metadata": {},
   "outputs": [
    {
     "data": {
      "text/plain": [
       "{'홍길동': [234, 2174, 2364, 31, 241],\n",
       " '이재오짝수': [[88, 66], [122, 828, 626], [132, 818], [12, -2, 88], [-88, -66]],\n",
       " '이재오홀수': [[67], [627], [435, 677, 3], [-1, -3], [-123, -67]]}"
      ]
     },
     "execution_count": 273,
     "metadata": {},
     "output_type": "execute_result"
    }
   ],
   "source": [
    "dict1={\"홍길동\": [], \"이재오짝수\":[], \"이재오홀수\":[]}\n",
    "for i in list_of_dictionary:\n",
    "    dict1[\"홍길동\"].append(f(i[\"홍길동\"])) # == sum()\n",
    "    v = split_odd_even(i['이재오'])\n",
    "    dict1[\"이재오짝수\"].append(v[1])\n",
    "    dict1[\"이재오홀수\"].append(v[0])\n",
    "dict1"
   ]
  },
  {
   "cell_type": "code",
   "execution_count": 299,
   "id": "b9c2609b-c9f3-4959-a864-17984062fb70",
   "metadata": {},
   "outputs": [
    {
     "data": {
      "text/plain": [
       "{'홍길동': [234, 2174, 2364, 31, 241],\n",
       " '이재오짝수': [154, 1576, 950, 98, -154],\n",
       " '이재오홀수': [67, 627, 1115, -4, -190]}"
      ]
     },
     "execution_count": 299,
     "metadata": {},
     "output_type": "execute_result"
    }
   ],
   "source": [
    "dict1={\"홍길동\": [], \"이재오짝수\":[], \"이재오홀수\":[]}\n",
    "# {\"홍길동\": [f(j) for j in list_of_dictionary for j in i['홍길동']]}\n",
    "res = {\n",
    "    \"홍길동\" : [f(d[\"홍길동\"]) for d in list_of_dictionary],\n",
    "    \"이재오짝수\" : [f([x for x in d[\"이재오\"] if x % 2 == 0]) for d in list_of_dictionary],\n",
    "    \"이재오홀수\" : [f([x for x in d[\"이재오\"] if x % 2 != 0]) for d in list_of_dictionary]\n",
    "}\n",
    "res"
   ]
  },
  {
   "cell_type": "code",
   "execution_count": 321,
   "id": "1cb3416d-6089-4967-9a09-65d9969f2cd8",
   "metadata": {},
   "outputs": [
    {
     "data": {
      "text/plain": [
       "{'홍길동': [234, 2174, 2364, 31, 241],\n",
       " '이재오짝수': [154, 1576, 950, 98, -154],\n",
       " '이재오홀수': [67, 627, 1115, -4, -190]}"
      ]
     },
     "execution_count": 321,
     "metadata": {},
     "output_type": "execute_result"
    }
   ],
   "source": [
    "dict1={\"홍길동\": [], \"이재오짝수\":[], \"이재오홀수\":[]}\n",
    "# {\"홍길동\": [f(j) for j in list_of_dictionary for j in i['홍길동']]}\n",
    "res = {\n",
    "    \"홍길동\" : list(map(lambda i : f(i[\"홍길동\"]), list_of_dictionary)),\n",
    "    \"이재오짝수\" : list(map(lambda i : f(split_odd_even(i[\"이재오\"])[1]), list_of_dictionary)),\n",
    "    \"이재오홀수\" : list(map(lambda i : f(split_odd_even(i[\"이재오\"])[0]), list_of_dictionary)),\n",
    "}\n",
    "res"
   ]
  },
  {
   "cell_type": "code",
   "execution_count": 323,
   "id": "1eb33b2e-c818-46e1-a924-cf46b476d44f",
   "metadata": {},
   "outputs": [],
   "source": [
    "############################"
   ]
  },
  {
   "cell_type": "code",
   "execution_count": 373,
   "id": "dd78aae8-4cdc-4bd4-bfa4-6ab024e535a9",
   "metadata": {},
   "outputs": [
    {
     "data": {
      "text/plain": [
       "[10, 20, 30, 40]"
      ]
     },
     "execution_count": 373,
     "metadata": {},
     "output_type": "execute_result"
    }
   ],
   "source": [
    "list = [10, 20, 30]\n",
    "list.append(40)\n",
    "list"
   ]
  },
  {
   "cell_type": "code",
   "execution_count": 375,
   "id": "73cc701d-4a70-4fcb-b63a-019dbf2848aa",
   "metadata": {},
   "outputs": [
    {
     "data": {
      "text/plain": [
       "[2, 4, 6, 8]"
      ]
     },
     "execution_count": 375,
     "metadata": {},
     "output_type": "execute_result"
    }
   ],
   "source": [
    "list = [8, 2, 4, 6]\n",
    "list.sort()\n",
    "list"
   ]
  },
  {
   "cell_type": "code",
   "execution_count": 377,
   "id": "582ca0a0-5553-4c5b-953e-969635925acd",
   "metadata": {},
   "outputs": [
    {
     "data": {
      "text/plain": [
       "[8, 9, 10]"
      ]
     },
     "execution_count": 377,
     "metadata": {},
     "output_type": "execute_result"
    }
   ],
   "source": [
    "list = [10, 9, 8]\n",
    "list.reverse()\n",
    "list"
   ]
  },
  {
   "cell_type": "code",
   "execution_count": 379,
   "id": "fc82d389-346b-4efe-8c41-3dc07ceab958",
   "metadata": {},
   "outputs": [
    {
     "data": {
      "text/plain": [
       "5"
      ]
     },
     "execution_count": 379,
     "metadata": {},
     "output_type": "execute_result"
    }
   ],
   "source": [
    "list = ['a','b','c','d','e','f']\n",
    "list.index('f')"
   ]
  },
  {
   "cell_type": "code",
   "execution_count": 381,
   "id": "42ce30e2-e243-4b7b-b87b-73aa455f57b9",
   "metadata": {},
   "outputs": [
    {
     "data": {
      "text/plain": [
       "[1, 2, 3]"
      ]
     },
     "execution_count": 381,
     "metadata": {},
     "output_type": "execute_result"
    }
   ],
   "source": [
    "list = [2, 3]\n",
    "list.insert(0, 1)\n",
    "list"
   ]
  },
  {
   "cell_type": "code",
   "execution_count": 355,
   "id": "2196a95c-de3b-4c17-91a4-d757c017a1d6",
   "metadata": {},
   "outputs": [
    {
     "data": {
      "text/plain": [
       "[100, 99]"
      ]
     },
     "execution_count": 355,
     "metadata": {},
     "output_type": "execute_result"
    }
   ],
   "source": [
    "list = [100, 88, 99]\n",
    "list.remove(88)\n",
    "list"
   ]
  },
  {
   "cell_type": "code",
   "execution_count": 363,
   "id": "3d2518ef-9ea0-4490-8ce7-0dba8643c954",
   "metadata": {},
   "outputs": [
    {
     "name": "stdout",
     "output_type": "stream",
     "text": [
      "pop :  f\n"
     ]
    },
    {
     "data": {
      "text/plain": [
       "[1, 2, 3]"
      ]
     },
     "execution_count": 363,
     "metadata": {},
     "output_type": "execute_result"
    }
   ],
   "source": [
    "list = [1, 2, 3, 'f']\n",
    "print(\"pop : \", list.pop())\n",
    "list"
   ]
  },
  {
   "cell_type": "code",
   "execution_count": 365,
   "id": "2fb774d4-f888-4dfb-be94-3356e665a438",
   "metadata": {},
   "outputs": [
    {
     "data": {
      "text/plain": [
       "(5, 2)"
      ]
     },
     "execution_count": 365,
     "metadata": {},
     "output_type": "execute_result"
    }
   ],
   "source": [
    "list = [1, 1, 1, 1, 1, 2, 3, 4, 4, 5]\n",
    "list.count(1), list.count(4)"
   ]
  },
  {
   "cell_type": "code",
   "execution_count": 371,
   "id": "152d39d9-6271-4016-89a3-79be6e269060",
   "metadata": {},
   "outputs": [
    {
     "data": {
      "text/plain": [
       "[1, 2, 3, 4]"
      ]
     },
     "execution_count": 371,
     "metadata": {},
     "output_type": "execute_result"
    }
   ],
   "source": [
    "list = [1, 2]\n",
    "list.extend([3, 4])\n",
    "list"
   ]
  },
  {
   "cell_type": "code",
   "execution_count": null,
   "id": "0b14d8f4-cb1b-4276-bfad-ec3bab5a6112",
   "metadata": {},
   "outputs": [],
   "source": [
    "##########################"
   ]
  },
  {
   "cell_type": "code",
   "execution_count": 383,
   "id": "4cfa6e47-dc45-457e-8dc8-ab2bfc475330",
   "metadata": {},
   "outputs": [],
   "source": [
    "arr2=[1, 2, 3, 4, 5]"
   ]
  },
  {
   "cell_type": "code",
   "execution_count": 385,
   "id": "a8bb95d0-26dc-4b70-a3fe-a5db9bb3a97d",
   "metadata": {},
   "outputs": [
    {
     "data": {
      "text/plain": [
       "[5, 4, 3, 2, 1]"
      ]
     },
     "execution_count": 385,
     "metadata": {},
     "output_type": "execute_result"
    }
   ],
   "source": [
    "arr2[::-1]"
   ]
  },
  {
   "cell_type": "code",
   "execution_count": 387,
   "id": "871fbd13-6ea1-4c21-b022-ead25556affc",
   "metadata": {},
   "outputs": [
    {
     "data": {
      "text/plain": [
       "[4]"
      ]
     },
     "execution_count": 387,
     "metadata": {},
     "output_type": "execute_result"
    }
   ],
   "source": [
    "arr2[3:4]"
   ]
  },
  {
   "cell_type": "code",
   "execution_count": 389,
   "id": "c65106e5-1c10-464b-a13f-c7cd2b5f3598",
   "metadata": {},
   "outputs": [
    {
     "data": {
      "text/plain": [
       "'홍길'"
      ]
     },
     "execution_count": 389,
     "metadata": {},
     "output_type": "execute_result"
    }
   ],
   "source": [
    "str2 = \"홍길동\"\n",
    "str2[:2]"
   ]
  },
  {
   "cell_type": "code",
   "execution_count": 391,
   "id": "9fcc09e5-de71-4a29-b994-c9306cceff97",
   "metadata": {},
   "outputs": [
    {
     "data": {
      "text/plain": [
       "'동길홍'"
      ]
     },
     "execution_count": 391,
     "metadata": {},
     "output_type": "execute_result"
    }
   ],
   "source": [
    "str2 = \"홍길동\"\n",
    "str2[::-1]"
   ]
  }
 ],
 "metadata": {
  "kernelspec": {
   "display_name": "Python [conda env:base] *",
   "language": "python",
   "name": "conda-base-py"
  },
  "language_info": {
   "codemirror_mode": {
    "name": "ipython",
    "version": 3
   },
   "file_extension": ".py",
   "mimetype": "text/x-python",
   "name": "python",
   "nbconvert_exporter": "python",
   "pygments_lexer": "ipython3",
   "version": "3.12.7"
  }
 },
 "nbformat": 4,
 "nbformat_minor": 5
}
