{
 "cells": [
  {
   "cell_type": "code",
   "execution_count": 11,
   "id": "7431ae79-190e-4bee-8f6e-eb13a5bf51e8",
   "metadata": {},
   "outputs": [],
   "source": [
    "def f(*a): # spread operator\n",
    "    print(a)\n",
    "    print(type(a))"
   ]
  },
  {
   "cell_type": "code",
   "execution_count": 3,
   "id": "4198be19-0cc1-4ea4-8f74-0e35b7584319",
   "metadata": {},
   "outputs": [
    {
     "name": "stdout",
     "output_type": "stream",
     "text": [
      "(2, 3, 4)\n",
      "<class 'tuple'>\n"
     ]
    }
   ],
   "source": [
    "f(2, 3, 4)"
   ]
  },
  {
   "cell_type": "code",
   "execution_count": 13,
   "id": "ffe8ed78-6d74-4003-96a4-834e69725b3b",
   "metadata": {},
   "outputs": [],
   "source": [
    "def f2(*a, k, v):\n",
    "    print(type(a), k, v)"
   ]
  },
  {
   "cell_type": "code",
   "execution_count": 15,
   "id": "f3a9b320-70ed-4df8-9bab-31782f45b471",
   "metadata": {},
   "outputs": [
    {
     "name": "stdout",
     "output_type": "stream",
     "text": [
      "<class 'tuple'> 11 23\n"
     ]
    }
   ],
   "source": [
    "f2(2, 3, 4, v=23, k=11)"
   ]
  },
  {
   "cell_type": "code",
   "execution_count": 23,
   "id": "7d83afbc-2361-4171-9ce3-d9cfa99a2102",
   "metadata": {},
   "outputs": [],
   "source": [
    "def g(**kwargs) : #keyword argument\n",
    "    print(kwargs)\n",
    "    return sum(kwargs['r']['a'])"
   ]
  },
  {
   "cell_type": "code",
   "execution_count": 25,
   "id": "be12a9d1-6a37-45e1-b5c1-7b2672da6ad7",
   "metadata": {},
   "outputs": [
    {
     "name": "stdout",
     "output_type": "stream",
     "text": [
      "{'v': 23, 'k': 11, 'r': {'a': [11, 22, 33, 44]}}\n"
     ]
    },
    {
     "data": {
      "text/plain": [
       "110"
      ]
     },
     "execution_count": 25,
     "metadata": {},
     "output_type": "execute_result"
    }
   ],
   "source": [
    "g(v=23, k=11, r={\"a\":[11, 22, 33, 44]})"
   ]
  },
  {
   "cell_type": "code",
   "execution_count": null,
   "id": "e8e92f36-7294-495c-bada-ba7200a3a5e3",
   "metadata": {},
   "outputs": [],
   "source": []
  },
  {
   "cell_type": "code",
   "execution_count": null,
   "id": "d80588f7-ecd4-40a0-a80c-7446c549dc82",
   "metadata": {},
   "outputs": [],
   "source": []
  },
  {
   "cell_type": "code",
   "execution_count": null,
   "id": "232db045-4d5f-4dbd-9d06-6fc1a70d007a",
   "metadata": {},
   "outputs": [],
   "source": []
  }
 ],
 "metadata": {
  "kernelspec": {
   "display_name": "Python [conda env:base] *",
   "language": "python",
   "name": "conda-base-py"
  },
  "language_info": {
   "codemirror_mode": {
    "name": "ipython",
    "version": 3
   },
   "file_extension": ".py",
   "mimetype": "text/x-python",
   "name": "python",
   "nbconvert_exporter": "python",
   "pygments_lexer": "ipython3",
   "version": "3.12.7"
  }
 },
 "nbformat": 4,
 "nbformat_minor": 5
}
